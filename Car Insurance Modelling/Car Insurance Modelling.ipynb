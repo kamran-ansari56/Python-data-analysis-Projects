{
 "cells": [
  {
   "cell_type": "code",
   "execution_count": 5,
   "id": "5ede5640-4887-4f2f-858b-8a673c75960a",
   "metadata": {},
   "outputs": [],
   "source": [
    "# Importing the Libraries\n",
    "import pandas as pd\n",
    "import matplotlib.pyplot as plt\n",
    "import seaborn as sns\n",
    "import statsmodels.api as sm"
   ]
  },
  {
   "cell_type": "code",
   "execution_count": 7,
   "id": "6cee593b-6f14-4b7a-a529-c0d2a8dd2549",
   "metadata": {},
   "outputs": [],
   "source": [
    "# Loading the Dataset\n",
    "data = pd.read_csv('Car Insurance Modelling.csv')"
   ]
  },
  {
   "cell_type": "code",
   "execution_count": 9,
   "id": "7bef72d6-f30a-471e-8380-b1141c0e02a0",
   "metadata": {},
   "outputs": [
    {
     "data": {
      "text/html": [
       "<div>\n",
       "<style scoped>\n",
       "    .dataframe tbody tr th:only-of-type {\n",
       "        vertical-align: middle;\n",
       "    }\n",
       "\n",
       "    .dataframe tbody tr th {\n",
       "        vertical-align: top;\n",
       "    }\n",
       "\n",
       "    .dataframe thead th {\n",
       "        text-align: right;\n",
       "    }\n",
       "</style>\n",
       "<table border=\"1\" class=\"dataframe\">\n",
       "  <thead>\n",
       "    <tr style=\"text-align: right;\">\n",
       "      <th></th>\n",
       "      <th>age_of_driver</th>\n",
       "      <th>car_age</th>\n",
       "      <th>region</th>\n",
       "      <th>number_of_claims</th>\n",
       "    </tr>\n",
       "  </thead>\n",
       "  <tbody>\n",
       "    <tr>\n",
       "      <th>0</th>\n",
       "      <td>30</td>\n",
       "      <td>7</td>\n",
       "      <td>Urban</td>\n",
       "      <td>0</td>\n",
       "    </tr>\n",
       "    <tr>\n",
       "      <th>1</th>\n",
       "      <td>33</td>\n",
       "      <td>10</td>\n",
       "      <td>Rural</td>\n",
       "      <td>2</td>\n",
       "    </tr>\n",
       "    <tr>\n",
       "      <th>2</th>\n",
       "      <td>39</td>\n",
       "      <td>11</td>\n",
       "      <td>Suburban</td>\n",
       "      <td>1</td>\n",
       "    </tr>\n",
       "    <tr>\n",
       "      <th>3</th>\n",
       "      <td>18</td>\n",
       "      <td>12</td>\n",
       "      <td>Urban</td>\n",
       "      <td>0</td>\n",
       "    </tr>\n",
       "    <tr>\n",
       "      <th>4</th>\n",
       "      <td>21</td>\n",
       "      <td>8</td>\n",
       "      <td>Urban</td>\n",
       "      <td>0</td>\n",
       "    </tr>\n",
       "  </tbody>\n",
       "</table>\n",
       "</div>"
      ],
      "text/plain": [
       "   age_of_driver  car_age    region  number_of_claims\n",
       "0             30        7     Urban                 0\n",
       "1             33       10     Rural                 2\n",
       "2             39       11  Suburban                 1\n",
       "3             18       12     Urban                 0\n",
       "4             21        8     Urban                 0"
      ]
     },
     "execution_count": 9,
     "metadata": {},
     "output_type": "execute_result"
    }
   ],
   "source": [
    "# Analyse the Top 5 rows of the Dataset\n",
    "data.head()"
   ]
  },
  {
   "cell_type": "code",
   "execution_count": 15,
   "id": "21069597-8ba4-45f9-a0a5-e4cd76ced8d9",
   "metadata": {},
   "outputs": [
    {
     "data": {
      "text/html": [
       "<div>\n",
       "<style scoped>\n",
       "    .dataframe tbody tr th:only-of-type {\n",
       "        vertical-align: middle;\n",
       "    }\n",
       "\n",
       "    .dataframe tbody tr th {\n",
       "        vertical-align: top;\n",
       "    }\n",
       "\n",
       "    .dataframe thead th {\n",
       "        text-align: right;\n",
       "    }\n",
       "</style>\n",
       "<table border=\"1\" class=\"dataframe\">\n",
       "  <thead>\n",
       "    <tr style=\"text-align: right;\">\n",
       "      <th></th>\n",
       "      <th>age_of_driver</th>\n",
       "      <th>car_age</th>\n",
       "      <th>region</th>\n",
       "      <th>number_of_claims</th>\n",
       "    </tr>\n",
       "  </thead>\n",
       "  <tbody>\n",
       "    <tr>\n",
       "      <th>count</th>\n",
       "      <td>1000.000000</td>\n",
       "      <td>1000.000000</td>\n",
       "      <td>1000</td>\n",
       "      <td>1000.000000</td>\n",
       "    </tr>\n",
       "    <tr>\n",
       "      <th>unique</th>\n",
       "      <td>NaN</td>\n",
       "      <td>NaN</td>\n",
       "      <td>3</td>\n",
       "      <td>NaN</td>\n",
       "    </tr>\n",
       "    <tr>\n",
       "      <th>top</th>\n",
       "      <td>NaN</td>\n",
       "      <td>NaN</td>\n",
       "      <td>Rural</td>\n",
       "      <td>NaN</td>\n",
       "    </tr>\n",
       "    <tr>\n",
       "      <th>freq</th>\n",
       "      <td>NaN</td>\n",
       "      <td>NaN</td>\n",
       "      <td>343</td>\n",
       "      <td>NaN</td>\n",
       "    </tr>\n",
       "    <tr>\n",
       "      <th>mean</th>\n",
       "      <td>33.112000</td>\n",
       "      <td>6.673000</td>\n",
       "      <td>NaN</td>\n",
       "      <td>0.675000</td>\n",
       "    </tr>\n",
       "    <tr>\n",
       "      <th>std</th>\n",
       "      <td>9.253598</td>\n",
       "      <td>4.377583</td>\n",
       "      <td>NaN</td>\n",
       "      <td>0.822223</td>\n",
       "    </tr>\n",
       "    <tr>\n",
       "      <th>min</th>\n",
       "      <td>18.000000</td>\n",
       "      <td>0.000000</td>\n",
       "      <td>NaN</td>\n",
       "      <td>0.000000</td>\n",
       "    </tr>\n",
       "    <tr>\n",
       "      <th>25%</th>\n",
       "      <td>25.000000</td>\n",
       "      <td>3.000000</td>\n",
       "      <td>NaN</td>\n",
       "      <td>0.000000</td>\n",
       "    </tr>\n",
       "    <tr>\n",
       "      <th>50%</th>\n",
       "      <td>33.000000</td>\n",
       "      <td>6.000000</td>\n",
       "      <td>NaN</td>\n",
       "      <td>0.000000</td>\n",
       "    </tr>\n",
       "    <tr>\n",
       "      <th>75%</th>\n",
       "      <td>41.000000</td>\n",
       "      <td>11.000000</td>\n",
       "      <td>NaN</td>\n",
       "      <td>1.000000</td>\n",
       "    </tr>\n",
       "    <tr>\n",
       "      <th>max</th>\n",
       "      <td>49.000000</td>\n",
       "      <td>14.000000</td>\n",
       "      <td>NaN</td>\n",
       "      <td>5.000000</td>\n",
       "    </tr>\n",
       "  </tbody>\n",
       "</table>\n",
       "</div>"
      ],
      "text/plain": [
       "        age_of_driver      car_age region  number_of_claims\n",
       "count     1000.000000  1000.000000   1000       1000.000000\n",
       "unique            NaN          NaN      3               NaN\n",
       "top               NaN          NaN  Rural               NaN\n",
       "freq              NaN          NaN    343               NaN\n",
       "mean        33.112000     6.673000    NaN          0.675000\n",
       "std          9.253598     4.377583    NaN          0.822223\n",
       "min         18.000000     0.000000    NaN          0.000000\n",
       "25%         25.000000     3.000000    NaN          0.000000\n",
       "50%         33.000000     6.000000    NaN          0.000000\n",
       "75%         41.000000    11.000000    NaN          1.000000\n",
       "max         49.000000    14.000000    NaN          5.000000"
      ]
     },
     "execution_count": 15,
     "metadata": {},
     "output_type": "execute_result"
    }
   ],
   "source": [
    "# Now let’s analyze the summary statistics\n",
    "data.describe(include='all')"
   ]
  },
  {
   "cell_type": "code",
   "execution_count": 17,
   "id": "856821e4-0c63-4c1c-a61f-9d664162ac7c",
   "metadata": {},
   "outputs": [
    {
     "data": {
      "text/plain": [
       "age_of_driver       0\n",
       "car_age             0\n",
       "region              0\n",
       "number_of_claims    0\n",
       "dtype: int64"
      ]
     },
     "execution_count": 17,
     "metadata": {},
     "output_type": "execute_result"
    }
   ],
   "source": [
    "# Checking for missing values\n",
    "data.isnull().sum()"
   ]
  },
  {
   "cell_type": "code",
   "execution_count": 19,
   "id": "cc60e7f6-fff7-4885-9dcb-283bdcf97f94",
   "metadata": {},
   "outputs": [],
   "source": [
    "# Now let’s proceed with visualizing the distributions and analyzing the categorical variables\n",
    "# Set the aesthetic style of the plots\n",
    "sns.set_style('whitegrid')"
   ]
  },
  {
   "cell_type": "code",
   "execution_count": 25,
   "id": "45a3d1c8-d80e-4bed-8dc3-5158f9b4553f",
   "metadata": {},
   "outputs": [
    {
     "data": {
      "image/png": "[encoded data removed]",
      "text/plain": [
       "<Figure size 1800x500 with 3 Axes>"
      ]
     },
     "metadata": {},
     "output_type": "display_data"
    }
   ],
   "source": [
    "# Plotting distributions of numerical variables\n",
    "fig, ax = plt.subplots(1, 3 , figsize = (18 , 5))\n",
    "\n",
    "sns.histplot(data['age_of_driver'], kde = True, bins = 15, ax = ax[0])\n",
    "ax[0].set_title('Age of Driver Distribution')\n",
    "\n",
    "sns.histplot(data['car_age'], kde = True, bins = 15 , ax = ax[1])\n",
    "ax[1].set_title('Car Age Distribution')\n",
    "\n",
    "sns.histplot(data['number_of_claims'], kde = False, bins = range(6), ax = ax[2])\n",
    "ax[2].set_title('Number of Claims Distribution')\n",
    "\n",
    "plt.tight_layout()\n",
    "plt.show()"
   ]
  },
  {
   "cell_type": "markdown",
   "id": "b4f93c85-cd07-4b54-bd48-d8921338f525",
   "metadata": {},
   "source": [
    "#### Data Preprocessing\n"
   ]
  },
  {
   "cell_type": "code",
   "execution_count": 28,
   "id": "a0447300-e015-4c81-8f6d-52c2022c41dd",
   "metadata": {},
   "outputs": [],
   "source": [
    "from sklearn.model_selection import train_test_split"
   ]
  },
  {
   "cell_type": "code",
   "execution_count": 34,
   "id": "75169fb8-39fb-4ba3-a163-b9e8a4e9f7f6",
   "metadata": {},
   "outputs": [],
   "source": [
    "insurance_data_encoded = pd.get_dummies(data, columns = ['region'], drop_first = True)"
   ]
  },
  {
   "cell_type": "code",
   "execution_count": 36,
   "id": "21822722-e150-4667-a322-c8fc7b075569",
   "metadata": {},
   "outputs": [],
   "source": [
    "# splitting the data into training and testing sets\n",
    "train, test = train_test_split(insurance_data_encoded, test_size=0.2, random_state= 42)"
   ]
  },
  {
   "cell_type": "code",
   "execution_count": 38,
   "id": "e9ebc098-6630-4583-8d56-e19b394907c5",
   "metadata": {},
   "outputs": [
    {
     "data": {
      "text/html": [
       "<div>\n",
       "<style scoped>\n",
       "    .dataframe tbody tr th:only-of-type {\n",
       "        vertical-align: middle;\n",
       "    }\n",
       "\n",
       "    .dataframe tbody tr th {\n",
       "        vertical-align: top;\n",
       "    }\n",
       "\n",
       "    .dataframe thead th {\n",
       "        text-align: right;\n",
       "    }\n",
       "</style>\n",
       "<table border=\"1\" class=\"dataframe\">\n",
       "  <thead>\n",
       "    <tr style=\"text-align: right;\">\n",
       "      <th></th>\n",
       "      <th>age_of_driver</th>\n",
       "      <th>car_age</th>\n",
       "      <th>number_of_claims</th>\n",
       "      <th>region_Suburban</th>\n",
       "      <th>region_Urban</th>\n",
       "    </tr>\n",
       "  </thead>\n",
       "  <tbody>\n",
       "    <tr>\n",
       "      <th>29</th>\n",
       "      <td>26</td>\n",
       "      <td>13</td>\n",
       "      <td>1</td>\n",
       "      <td>False</td>\n",
       "      <td>False</td>\n",
       "    </tr>\n",
       "    <tr>\n",
       "      <th>535</th>\n",
       "      <td>42</td>\n",
       "      <td>9</td>\n",
       "      <td>2</td>\n",
       "      <td>True</td>\n",
       "      <td>False</td>\n",
       "    </tr>\n",
       "    <tr>\n",
       "      <th>695</th>\n",
       "      <td>44</td>\n",
       "      <td>8</td>\n",
       "      <td>1</td>\n",
       "      <td>False</td>\n",
       "      <td>False</td>\n",
       "    </tr>\n",
       "    <tr>\n",
       "      <th>557</th>\n",
       "      <td>41</td>\n",
       "      <td>3</td>\n",
       "      <td>1</td>\n",
       "      <td>True</td>\n",
       "      <td>False</td>\n",
       "    </tr>\n",
       "    <tr>\n",
       "      <th>836</th>\n",
       "      <td>31</td>\n",
       "      <td>12</td>\n",
       "      <td>0</td>\n",
       "      <td>False</td>\n",
       "      <td>True</td>\n",
       "    </tr>\n",
       "  </tbody>\n",
       "</table>\n",
       "</div>"
      ],
      "text/plain": [
       "     age_of_driver  car_age  number_of_claims  region_Suburban  region_Urban\n",
       "29              26       13                 1            False         False\n",
       "535             42        9                 2             True         False\n",
       "695             44        8                 1            False         False\n",
       "557             41        3                 1             True         False\n",
       "836             31       12                 0            False          True"
      ]
     },
     "execution_count": 38,
     "metadata": {},
     "output_type": "execute_result"
    }
   ],
   "source": [
    "train.head()"
   ]
  },
  {
   "cell_type": "markdown",
   "id": "8838aabb-3a1c-4933-84e2-22b5847b05a1",
   "metadata": {},
   "source": [
    "##### The ‘region’ variable has been one-hot encoded, resulting in two new variables region_Suburban and region_Urban (with region_Rural being the baseline category implicitly). The data has also been split into training (80%) and testing (20%) sets."
   ]
  },
  {
   "cell_type": "markdown",
   "id": "b8150f13-6253-486d-b733-075dcc00a088",
   "metadata": {},
   "source": [
    "#### Car Insurance Modelling for Event Frequency\n"
   ]
  },
  {
   "cell_type": "code",
   "execution_count": 44,
   "id": "e42eee90-9e6a-4833-a043-d7a2ac86ea7c",
   "metadata": {},
   "outputs": [],
   "source": [
    "# Prepare the data for modelling\n",
    "X_train = train.drop('number_of_claims', axis = 1)\n",
    "y_train = train['number_of_claims']"
   ]
  },
  {
   "cell_type": "code",
   "execution_count": 46,
   "id": "60c3a0a0-9a5e-4425-8a37-c48384f464b3",
   "metadata": {},
   "outputs": [],
   "source": [
    "# Adding constant to the predictor variables\n",
    "X_train_const = sm.add_constant(X_train)"
   ]
  },
  {
   "cell_type": "code",
   "execution_count": 68,
   "id": "9217d9e1-7772-4823-889f-9dc8721906a9",
   "metadata": {},
   "outputs": [],
   "source": [
    "X_train = X_train.astype(int)\n"
   ]
  },
  {
   "cell_type": "code",
   "execution_count": 58,
   "id": "793da742-d132-42e5-956d-c5204df79aa9",
   "metadata": {},
   "outputs": [
    {
     "name": "stdout",
     "output_type": "stream",
     "text": [
      "Empty DataFrame\n",
      "Columns: []\n",
      "Index: [29, 535, 695, 557, 836]\n",
      "29     1\n",
      "535    2\n",
      "695    1\n",
      "557    1\n",
      "836    0\n",
      "      ..\n",
      "106    0\n",
      "270    2\n",
      "860    0\n",
      "435    2\n",
      "102    1\n",
      "Name: number_of_claims, Length: 800, dtype: int64\n"
     ]
    }
   ],
   "source": [
    "print(X_train.select_dtypes(include=['object']).head())\n",
    "print(y_train)\n"
   ]
  },
  {
   "cell_type": "code",
   "execution_count": 60,
   "id": "0c28e1b2-23de-4580-b56a-8d73fe7d043d",
   "metadata": {},
   "outputs": [],
   "source": [
    "X_train = X_train.apply(pd.to_numeric, errors='coerce')\n",
    "y_train = pd.to_numeric(y_train, errors='coerce')\n"
   ]
  },
  {
   "cell_type": "code",
   "execution_count": 62,
   "id": "40197e46-4cae-445f-850c-3bd5a1b20967",
   "metadata": {},
   "outputs": [],
   "source": [
    "X_train = pd.get_dummies(X_train, drop_first=True)\n"
   ]
  },
  {
   "cell_type": "code",
   "execution_count": 64,
   "id": "cedbda4d-c31d-45da-8291-aa2a09a6e229",
   "metadata": {},
   "outputs": [],
   "source": [
    "X_train = X_train.dropna()\n",
    "y_train = y_train.dropna()\n"
   ]
  },
  {
   "cell_type": "code",
   "execution_count": 70,
   "id": "fc7b73d4-9851-4c22-a302-74c5513d99b2",
   "metadata": {},
   "outputs": [
    {
     "name": "stdout",
     "output_type": "stream",
     "text": [
      "                 Generalized Linear Model Regression Results                  \n",
      "==============================================================================\n",
      "Dep. Variable:       number_of_claims   No. Observations:                  800\n",
      "Model:                            GLM   Df Residuals:                      795\n",
      "Model Family:                 Poisson   Df Model:                            4\n",
      "Link Function:                    Log   Scale:                          1.0000\n",
      "Method:                          IRLS   Log-Likelihood:                -845.44\n",
      "Date:                Mon, 07 Apr 2025   Deviance:                       829.41\n",
      "Time:                        10:18:41   Pearson chi2:                     770.\n",
      "No. Iterations:                     5   Pseudo R-squ. (CS):            0.02749\n",
      "Covariance Type:            nonrobust                                         \n",
      "===================================================================================\n",
      "                      coef    std err          z      P>|z|      [0.025      0.975]\n",
      "-----------------------------------------------------------------------------------\n",
      "const               0.0906      0.181      0.502      0.616      -0.263       0.444\n",
      "age_of_driver      -0.0205      0.005     -4.321      0.000      -0.030      -0.011\n",
      "car_age             0.0152      0.010      1.539      0.124      -0.004       0.035\n",
      "region_Suburban     0.0799      0.106      0.755      0.450      -0.127       0.287\n",
      "region_Urban        0.0861      0.108      0.794      0.427      -0.126       0.298\n",
      "===================================================================================\n"
     ]
    }
   ],
   "source": [
    "import statsmodels.api as sm\n",
    "\n",
    "# Convert boolean columns to integers\n",
    "X_train = X_train.astype(int)\n",
    "\n",
    "# Add constant for intercept\n",
    "X_train_const = sm.add_constant(X_train)\n",
    "\n",
    "# Fit Poisson GLM model\n",
    "poisson_glm = sm.GLM(y_train, X_train_const, family=sm.families.Poisson()).fit()\n",
    "\n",
    "# Print summary\n",
    "print(poisson_glm.summary())\n"
   ]
  },
  {
   "cell_type": "markdown",
   "id": "95f14f05-b60f-4def-aeed-fa48c06b6833",
   "metadata": {},
   "source": [
    "##### The Poisson GLM has been fit with the following results:\n",
    "\n",
    "- const: Represents the intercept. The estimate is 0.0906, but it’s not statistically significant (p-value: 0.616).\n",
    "- age_of_driver: The coefficient is -0.0205, indicating that with each additional year of the driver’s age, the log of expected claims decreases. It’s statistically significant (p-value < 0.001), suggesting a strong relationship between the age of the driver and the number of claims.\n",
    "- car_age: The coefficient is 0.0152, suggesting that older cars tend to have slightly higher expected claims, although this effect is not statistically significant (p-value: 0.124).\n",
    "- region_Suburban and region_Urban: The coefficients for these categories are 0.0799 and 0.0861, respectively. Both are compared to the baseline “Rural” category and indicate slightly higher expected claims in suburban and urban areas. However, neither is statistically significant (p-values: 0.450 and 0.427, respectively)."
   ]
  },
  {
   "cell_type": "markdown",
   "id": "f46f5f18-7c9a-4234-99cc-12ce0ce986df",
   "metadata": {},
   "source": [
    "#### Summary\n",
    "So, car insurance modelling refers to the use of statistical and mathematical models to accurately predict events such as the frequency of claims, the severity of claims, or the total cost associated with claims, which in turn helps in pricing insurance products, managing risk, and optimizing business strategies."
   ]
  },
  {
   "cell_type": "code",
   "execution_count": null,
   "id": "5be4bd18-b88e-49b7-bd02-a3ff3a2c2dc9",
   "metadata": {},
   "outputs": [],
   "source": []
  }
 ],
 "metadata": {
  "kernelspec": {
   "display_name": "Python 3 (ipykernel)",
   "language": "python",
   "name": "python3"
  },
  "language_info": {
   "codemirror_mode": {
    "name": "ipython",
    "version": 3
   },
   "file_extension": ".py",
   "mimetype": "text/x-python",
   "name": "python",
   "nbconvert_exporter": "python",
   "pygments_lexer": "ipython3",
   "version": "3.12.7"
  }
 },
 "nbformat": 4,
 "nbformat_minor": 5
}
